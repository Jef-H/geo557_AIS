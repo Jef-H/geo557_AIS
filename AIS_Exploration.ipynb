{
 "cells": [
  {
   "cell_type": "markdown",
   "id": "c2c82dfb-c7a2-4a04-9882-b4ef914dbaf7",
   "metadata": {},
   "source": [
    "Abstract\n",
    "\n",
    "The ocean is a vital resource supporting global biodiversity, food security, and economic activity, yet its sustainable use is threatened by overfishing and other illicit practices. Automatic Identification System (AIS) data is a key tool for monitoring vessel activity, but disabling AIS—resulting in \"AIS gaps\"—raises concerns about potential illegal fishing. This study explores whether AIS gaps are primarily used to mask illegal activity or to conceal highly productive fishing locations from competitors. Using a dataset of AIS gaps from Global Fishing Watch, we analyze patterns in AIS disabling events, focusing on vessel types, spatial distributions, and the frequency of such events. By examining these dynamics, we aim to provide insights into the motivations behind AIS disabling and its implications for fisheries management and conservation.\n",
    "Introduction"
   ]
  },
  {
   "cell_type": "markdown",
   "id": "e1b1fd15-8dd3-437f-8aa5-cbeb93316ca8",
   "metadata": {},
   "source": [
    "Introduction\n",
    "\n",
    "The ocean is an essential global resource, providing critical ecosystem services, food, and livelihoods for millions worldwide. As marine resources face increasing pressure from overfishing, technological tools like the Automatic Identification System (AIS) have become indispensable for monitoring and managing vessel activity. AIS is designed to enhance maritime safety by broadcasting vessel positions, but disabling AIS creates data gaps that complicate oversight and raise concerns about illicit activities, including illegal fishing.\n",
    "\n"
   ]
  },
  {
   "cell_type": "markdown",
   "id": "eaed3ebf",
   "metadata": {},
   "source": [
    "Methods (data source and wrangling): \n",
    "\n",
    "This data set was gathered from: global fishing watch. "
   ]
  },
  {
   "cell_type": "code",
   "execution_count": null,
   "id": "0fa376ea-c4b0-419c-a53d-c15dea719311",
   "metadata": {},
   "outputs": [],
   "source": [
    "\n"
   ]
  },
  {
   "cell_type": "code",
   "execution_count": 7,
   "id": "f5ca076e-29e2-4a39-b3b3-4d531b73ed3d",
   "metadata": {},
   "outputs": [
    {
     "name": "stdout",
     "output_type": "stream",
     "text": [
      "     mmsi  total_gap_hours\n",
      "0     612        31.016667\n",
      "1     732        21.883333\n",
      "2     857        17.683333\n",
      "3   92455        24.383333\n",
      "4  201851      3556.766667\n"
     ]
    }
   ],
   "source": [
    "import pandas as pd\n",
    "from geopy.distance import geodesic\n",
    "\n",
    "df = pd.read_csv('ais_disabling_events.csv')\n",
    "\n",
    "# Ensure datetime columns are properly formatted\n",
    "df['gap_start_timestamp'] = pd.to_datetime(df['gap_start_timestamp'])\n",
    "df['gap_end_timestamp'] = pd.to_datetime(df['gap_end_timestamp'])\n",
    "\n",
    "# Calculate total gap hours and number of records per vessel\n",
    "vessel_gap_summary = df.groupby('mmsi')['gap_hours'].sum().reset_index()\n",
    "vessel_gap_summary.rename(columns={'gap_hours': 'total_gap_hours'}, inplace=True)\n",
    "print(vessel_gap_summary.head())# Group by vessel class and calculate the total and average gap hours\n",
    "vessel_class_summary = df.groupby('vessel_class')['gap_hours'].agg(['sum', 'mean', 'count']).reset_index()\n",
    "vessel_class_summary.rename(columns={\n",
    "    'sum': 'total_gap_hours',\n",
    "    'mean': 'average_gap_hours',\n",
    "    'count': 'number_of_gaps'\n",
    "}, inplace=True)\n",
    "\n",
    "# Sort by total gap hours to see which vessel types turn off AIS most\n",
    "vessel_class_summary.sort_values('total_gap_hours', ascending=False, inplace=True)\n",
    "\n",
    "print(vessel_class_summary)"
   ]
  },
  {
   "cell_type": "code",
   "execution_count": 11,
   "id": "8abd4314-20a3-4e33-bd96-9dcb77645f1b",
   "metadata": {},
   "outputs": [
    {
     "name": "stdout",
     "output_type": "stream",
     "text": [
      "         vessel_class  vessels_with_gaps  unique_vessels  percent_with_gaps\n",
      "0  drifting_longlines               2191            2191              100.0\n",
      "1               other                945             945              100.0\n",
      "2        squid_jigger                806             806              100.0\n",
      "3            trawlers                917             917              100.0\n",
      "4   tuna_purse_seines                419             419              100.0\n"
     ]
    }
   ],
   "source": [
    "# Identify unique vessels with at least one gap per class\n",
    "vessels_with_gaps = df.groupby('vessel_class')['mmsi'].nunique().reset_index()\n",
    "vessels_with_gaps.rename(columns={'mmsi': 'vessels_with_gaps'}, inplace=True)\n",
    "\n",
    "# Count the total number of unique vessels per class\n",
    "total_vessels = df.groupby('vessel_class')['mmsi'].nunique().reset_index()\n",
    "total_vessels.rename(columns={'mmsi': 'unique_vessels'}, inplace=True)\n",
    "\n",
    "# Merge the two datasets\n",
    "vessel_class_summary = vessels_with_gaps.merge(total_vessels, on='vessel_class')\n",
    "\n",
    "# Calculate the percentage of vessels with gaps\n",
    "vessel_class_summary['percent_with_gaps'] = (\n",
    "    vessel_class_summary['vessels_with_gaps'] / vessel_class_summary['unique_vessels'] * 100\n",
    ")\n",
    "\n",
    "# Display the corrected summary\n",
    "print(vessel_class_summary)\n"
   ]
  },
  {
   "cell_type": "code",
   "execution_count": 8,
   "id": "2946ae20-6f1a-4034-b911-f7312e3db839",
   "metadata": {},
   "outputs": [
    {
     "ename": "SyntaxError",
     "evalue": "invalid syntax (2773980919.py, line 1)",
     "output_type": "error",
     "traceback": [
      "\u001b[0;36m  Cell \u001b[0;32mIn[8], line 1\u001b[0;36m\u001b[0m\n\u001b[0;31m    Discussion :\u001b[0m\n\u001b[0m                 ^\u001b[0m\n\u001b[0;31mSyntaxError\u001b[0m\u001b[0;31m:\u001b[0m invalid syntax\n"
     ]
    }
   ],
   "source": [
    "Discussion : "
   ]
  },
  {
   "cell_type": "markdown",
   "id": "1b74a440-1be5-4b21-bfe2-3587cebfec13",
   "metadata": {},
   "source": [
    "Results (viz and stats)\n",
    "\n"
   ]
  },
  {
   "cell_type": "markdown",
   "id": "8f4ec686",
   "metadata": {},
   "source": [
    "Discussion (who cares?)"
   ]
  }
 ],
 "metadata": {
  "kernelspec": {
   "display_name": "Python [conda env:csm-2024-fall]",
   "language": "python",
   "name": "conda-env-csm-2024-fall-py"
  },
  "language_info": {
   "codemirror_mode": {
    "name": "ipython",
    "version": 3
   },
   "file_extension": ".py",
   "mimetype": "text/x-python",
   "name": "python",
   "nbconvert_exporter": "python",
   "pygments_lexer": "ipython3",
   "version": "3.11.10"
  }
 },
 "nbformat": 4,
 "nbformat_minor": 5
}
