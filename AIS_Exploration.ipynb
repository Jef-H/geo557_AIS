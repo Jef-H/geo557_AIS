{
 "cells": [
  {
   "cell_type": "markdown",
   "id": "c2c82dfb-c7a2-4a04-9882-b4ef914dbaf7",
   "metadata": {},
   "source": [
    "# Abstract\n",
    "\n",
    "The ocean is a vital resource supporting global biodiversity, food security, and economic activity, yet its sustainable use is threatened by overfishing and other illicit practices. Automatic Identification System (AIS) data is a key tool for monitoring vessel activity, but disabling AIS—resulting in \"AIS gaps\"—raises concerns about potential illegal fishing. This study explores whether AIS gaps are primarily used to mask illegal activity or to conceal highly productive fishing locations from competitors. Using a dataset of AIS gaps from Global Fishing Watch, this study analyzes patterns in AIS disabling events, focusing on vessel types, spatial distributions, and the frequency of such events. By examining these dynamics, the study aims to provide insights into the motivations behind AIS disabling, and its implications for fisheries management and conservation."
   ]
  },
  {
   "cell_type": "markdown",
   "id": "e1b1fd15-8dd3-437f-8aa5-cbeb93316ca8",
   "metadata": {},
   "source": [
    "# Introduction\n",
    "\n",
    "The ocean is an essential global resource, providing critical ecosystem services, food, and livelihoods for millions worldwide. As marine resources face increasing pressure from overfishing, technological tools like the Automatic Identification System (AIS) have become indispensable for monitoring and managing vessel activity. AIS is designed to enhance maritime safety by broadcasting vessel positions, but disabling AIS creates data gaps that complicate oversight and raise concerns about illegal fishing activities. \n",
    "\n"
   ]
  },
  {
   "cell_type": "markdown",
   "id": "eaed3ebf",
   "metadata": {},
   "source": [
    "# Methods (data source and wrangling): \n",
    "\n",
    "This data set was gathere\"d from: global fishing watch.  https://globalfishingwatch.org/data-download/datasets/public-welch-et-al-disabling-events:v20221102\n",
    "\n"
   ]
  },
  {
   "cell_type": "markdown",
   "id": "0fa376ea-c4b0-419c-a53d-c15dea719311",
   "metadata": {},
   "source": [
    "This dataset is pretty clean, but lets get you some info about it anyways. \n"
   ]
  },
  {
   "cell_type": "code",
   "execution_count": 3,
   "id": "14e0d9a8",
   "metadata": {},
   "outputs": [
    {
     "data": {
      "text/html": [
       "<div>\n",
       "<style scoped>\n",
       "    .dataframe tbody tr th:only-of-type {\n",
       "        vertical-align: middle;\n",
       "    }\n",
       "\n",
       "    .dataframe tbody tr th {\n",
       "        vertical-align: top;\n",
       "    }\n",
       "\n",
       "    .dataframe thead th {\n",
       "        text-align: right;\n",
       "    }\n",
       "</style>\n",
       "<table border=\"1\" class=\"dataframe\">\n",
       "  <thead>\n",
       "    <tr style=\"text-align: right;\">\n",
       "      <th></th>\n",
       "      <th>mmsi</th>\n",
       "      <th>vessel_length_m</th>\n",
       "      <th>vessel_tonnage_gt</th>\n",
       "      <th>gap_start_lat</th>\n",
       "      <th>gap_start_lon</th>\n",
       "      <th>gap_start_distance_from_shore_m</th>\n",
       "      <th>gap_end_lat</th>\n",
       "      <th>gap_end_lon</th>\n",
       "      <th>gap_end_distance_from_shore_m</th>\n",
       "      <th>gap_hours</th>\n",
       "    </tr>\n",
       "  </thead>\n",
       "  <tbody>\n",
       "    <tr>\n",
       "      <th>count</th>\n",
       "      <td>5.536800e+04</td>\n",
       "      <td>55365.000000</td>\n",
       "      <td>55368.000000</td>\n",
       "      <td>55368.000000</td>\n",
       "      <td>55368.000000</td>\n",
       "      <td>5.536800e+04</td>\n",
       "      <td>55368.000000</td>\n",
       "      <td>55368.000000</td>\n",
       "      <td>5.536800e+04</td>\n",
       "      <td>55368.000000</td>\n",
       "    </tr>\n",
       "    <tr>\n",
       "      <th>mean</th>\n",
       "      <td>4.150034e+08</td>\n",
       "      <td>53.113900</td>\n",
       "      <td>857.755972</td>\n",
       "      <td>0.207077</td>\n",
       "      <td>10.602479</td>\n",
       "      <td>5.157071e+05</td>\n",
       "      <td>0.261127</td>\n",
       "      <td>11.273168</td>\n",
       "      <td>5.010615e+05</td>\n",
       "      <td>100.392152</td>\n",
       "    </tr>\n",
       "    <tr>\n",
       "      <th>std</th>\n",
       "      <td>1.206791e+08</td>\n",
       "      <td>21.321896</td>\n",
       "      <td>711.376427</td>\n",
       "      <td>31.963962</td>\n",
       "      <td>116.896361</td>\n",
       "      <td>3.480320e+05</td>\n",
       "      <td>31.946682</td>\n",
       "      <td>116.780426</td>\n",
       "      <td>3.565816e+05</td>\n",
       "      <td>371.332756</td>\n",
       "    </tr>\n",
       "    <tr>\n",
       "      <th>min</th>\n",
       "      <td>6.120000e+02</td>\n",
       "      <td>10.620000</td>\n",
       "      <td>12.000000</td>\n",
       "      <td>-76.095333</td>\n",
       "      <td>-179.983000</td>\n",
       "      <td>9.300000e+04</td>\n",
       "      <td>-75.934333</td>\n",
       "      <td>-179.999360</td>\n",
       "      <td>1.000000e+03</td>\n",
       "      <td>12.000000</td>\n",
       "    </tr>\n",
       "    <tr>\n",
       "      <th>25%</th>\n",
       "      <td>4.120563e+08</td>\n",
       "      <td>36.520000</td>\n",
       "      <td>276.000000</td>\n",
       "      <td>-19.853636</td>\n",
       "      <td>-79.861616</td>\n",
       "      <td>2.790000e+05</td>\n",
       "      <td>-19.818421</td>\n",
       "      <td>-79.581464</td>\n",
       "      <td>2.540000e+05</td>\n",
       "      <td>15.583333</td>\n",
       "    </tr>\n",
       "    <tr>\n",
       "      <th>50%</th>\n",
       "      <td>4.124999e+08</td>\n",
       "      <td>54.999773</td>\n",
       "      <td>736.000000</td>\n",
       "      <td>-2.366897</td>\n",
       "      <td>-16.121833</td>\n",
       "      <td>4.130000e+05</td>\n",
       "      <td>-2.364694</td>\n",
       "      <td>-14.700157</td>\n",
       "      <td>4.100000e+05</td>\n",
       "      <td>23.483333</td>\n",
       "    </tr>\n",
       "    <tr>\n",
       "      <th>75%</th>\n",
       "      <td>4.167720e+08</td>\n",
       "      <td>69.900000</td>\n",
       "      <td>1269.000000</td>\n",
       "      <td>26.938788</td>\n",
       "      <td>152.517194</td>\n",
       "      <td>6.610000e+05</td>\n",
       "      <td>27.216765</td>\n",
       "      <td>152.467873</td>\n",
       "      <td>6.500000e+05</td>\n",
       "      <td>67.800000</td>\n",
       "    </tr>\n",
       "    <tr>\n",
       "      <th>max</th>\n",
       "      <td>9.997636e+08</td>\n",
       "      <td>255.390000</td>\n",
       "      <td>9499.000000</td>\n",
       "      <td>78.214127</td>\n",
       "      <td>179.993508</td>\n",
       "      <td>2.245000e+06</td>\n",
       "      <td>80.191548</td>\n",
       "      <td>179.993225</td>\n",
       "      <td>2.262000e+06</td>\n",
       "      <td>17215.933333</td>\n",
       "    </tr>\n",
       "  </tbody>\n",
       "</table>\n",
       "</div>"
      ],
      "text/plain": [
       "               mmsi  vessel_length_m  vessel_tonnage_gt  gap_start_lat  \\\n",
       "count  5.536800e+04     55365.000000       55368.000000   55368.000000   \n",
       "mean   4.150034e+08        53.113900         857.755972       0.207077   \n",
       "std    1.206791e+08        21.321896         711.376427      31.963962   \n",
       "min    6.120000e+02        10.620000          12.000000     -76.095333   \n",
       "25%    4.120563e+08        36.520000         276.000000     -19.853636   \n",
       "50%    4.124999e+08        54.999773         736.000000      -2.366897   \n",
       "75%    4.167720e+08        69.900000        1269.000000      26.938788   \n",
       "max    9.997636e+08       255.390000        9499.000000      78.214127   \n",
       "\n",
       "       gap_start_lon  gap_start_distance_from_shore_m   gap_end_lat  \\\n",
       "count   55368.000000                     5.536800e+04  55368.000000   \n",
       "mean       10.602479                     5.157071e+05      0.261127   \n",
       "std       116.896361                     3.480320e+05     31.946682   \n",
       "min      -179.983000                     9.300000e+04    -75.934333   \n",
       "25%       -79.861616                     2.790000e+05    -19.818421   \n",
       "50%       -16.121833                     4.130000e+05     -2.364694   \n",
       "75%       152.517194                     6.610000e+05     27.216765   \n",
       "max       179.993508                     2.245000e+06     80.191548   \n",
       "\n",
       "        gap_end_lon  gap_end_distance_from_shore_m     gap_hours  \n",
       "count  55368.000000                   5.536800e+04  55368.000000  \n",
       "mean      11.273168                   5.010615e+05    100.392152  \n",
       "std      116.780426                   3.565816e+05    371.332756  \n",
       "min     -179.999360                   1.000000e+03     12.000000  \n",
       "25%      -79.581464                   2.540000e+05     15.583333  \n",
       "50%      -14.700157                   4.100000e+05     23.483333  \n",
       "75%      152.467873                   6.500000e+05     67.800000  \n",
       "max      179.993225                   2.262000e+06  17215.933333  "
      ]
     },
     "execution_count": 3,
     "metadata": {},
     "output_type": "execute_result"
    }
   ],
   "source": [
    "import pandas as pd\n",
    "\n",
    "\n",
    "df = pd.read_csv('ais_disabling_events.csv')\n",
    "df.describe()"
   ]
  },
  {
   "cell_type": "markdown",
   "id": "a75a932a",
   "metadata": {},
   "source": [
    "Awesome so we have rows like vessel_length_m and vessel_tonnage_gt and anything that's talking about the \"gap\" is going to be in reference to the gap from where AIS was disabled to where it was re-enabled. "
   ]
  },
  {
   "cell_type": "code",
   "execution_count": 4,
   "id": "f5ca076e-29e2-4a39-b3b3-4d531b73ed3d",
   "metadata": {},
   "outputs": [
    {
     "ename": "ModuleNotFoundError",
     "evalue": "No module named 'geopy'",
     "output_type": "error",
     "traceback": [
      "\u001b[1;31m---------------------------------------------------------------------------\u001b[0m",
      "\u001b[1;31mModuleNotFoundError\u001b[0m                       Traceback (most recent call last)",
      "Cell \u001b[1;32mIn[4], line 1\u001b[0m\n\u001b[1;32m----> 1\u001b[0m \u001b[38;5;28;01mfrom\u001b[39;00m \u001b[38;5;21;01mgeopy\u001b[39;00m\u001b[38;5;21;01m.\u001b[39;00m\u001b[38;5;21;01mdistance\u001b[39;00m \u001b[38;5;28;01mimport\u001b[39;00m geodesic\n\u001b[0;32m      2\u001b[0m \u001b[38;5;66;03m# Ensure datetime columns are properly formatted\u001b[39;00m\n\u001b[0;32m      3\u001b[0m df[\u001b[38;5;124m'\u001b[39m\u001b[38;5;124mgap_start_timestamp\u001b[39m\u001b[38;5;124m'\u001b[39m] \u001b[38;5;241m=\u001b[39m pd\u001b[38;5;241m.\u001b[39mto_datetime(df[\u001b[38;5;124m'\u001b[39m\u001b[38;5;124mgap_start_timestamp\u001b[39m\u001b[38;5;124m'\u001b[39m])\n",
      "\u001b[1;31mModuleNotFoundError\u001b[0m: No module named 'geopy'"
     ]
    }
   ],
   "source": [
    "from geopy.distance import geodesic\n",
    "# Ensure datetime columns are properly formatted\n",
    "df['gap_start_timestamp'] = pd.to_datetime(df['gap_start_timestamp'])\n",
    "df['gap_end_timestamp'] = pd.to_datetime(df['gap_end_timestamp'])\n",
    "\n",
    "# Calculate total gap hours and number of records per vessel\n",
    "vessel_gap_summary = df.groupby('mmsi')['gap_hours'].sum().reset_index()\n",
    "vessel_gap_summary.rename(columns={'gap_hours': 'total_gap_hours'}, inplace=True)\n",
    "print(vessel_gap_summary.head())# Group by vessel class and calculate the total and average gap hours\n",
    "vessel_class_summary = df.groupby('vessel_class')['gap_hours'].agg(['sum', 'mean', 'count']).reset_index()\n",
    "vessel_class_summary.rename(columns={\n",
    "    'sum': 'total_gap_hours',\n",
    "    'mean': 'average_gap_hours',\n",
    "    'count': 'number_of_gaps'\n",
    "}, inplace=True)\n",
    "\n",
    "# Sort by total gap hours to see which vessel types turn off AIS most\n",
    "vessel_class_summary.sort_values('total_gap_hours', ascending=False, inplace=True)\n",
    "\n",
    "print(vessel_class_summary)"
   ]
  },
  {
   "cell_type": "code",
   "execution_count": 11,
   "id": "8abd4314-20a3-4e33-bd96-9dcb77645f1b",
   "metadata": {},
   "outputs": [
    {
     "name": "stdout",
     "output_type": "stream",
     "text": [
      "         vessel_class  vessels_with_gaps  unique_vessels  percent_with_gaps\n",
      "0  drifting_longlines               2191            2191              100.0\n",
      "1               other                945             945              100.0\n",
      "2        squid_jigger                806             806              100.0\n",
      "3            trawlers                917             917              100.0\n",
      "4   tuna_purse_seines                419             419              100.0\n"
     ]
    }
   ],
   "source": [
    "# Identify unique vessels with at least one gap per class\n",
    "vessels_with_gaps = df.groupby('vessel_class')['mmsi'].nunique().reset_index()\n",
    "vessels_with_gaps.rename(columns={'mmsi': 'vessels_with_gaps'}, inplace=True)\n",
    "\n",
    "# Count the total number of unique vessels per class\n",
    "total_vessels = df.groupby('vessel_class')['mmsi'].nunique().reset_index()\n",
    "total_vessels.rename(columns={'mmsi': 'unique_vessels'}, inplace=True)\n",
    "\n",
    "# Merge the two datasets\n",
    "vessel_class_summary = vessels_with_gaps.merge(total_vessels, on='vessel_class')\n",
    "\n",
    "# Calculate the percentage of vessels with gaps\n",
    "vessel_class_summary['percent_with_gaps'] = (\n",
    "    vessel_class_summary['vessels_with_gaps'] / vessel_class_summary['unique_vessels'] * 100\n",
    ")\n",
    "\n",
    "# Display the corrected summary\n",
    "print(vessel_class_summary)\n"
   ]
  },
  {
   "cell_type": "markdown",
   "id": "1b74a440-1be5-4b21-bfe2-3587cebfec13",
   "metadata": {},
   "source": [
    "# Results (viz and stats)\n",
    "\n"
   ]
  },
  {
   "cell_type": "markdown",
   "id": "8f4ec686",
   "metadata": {},
   "source": [
    "# Discussion (who cares?)"
   ]
  },
  {
   "cell_type": "markdown",
   "id": "8fea5cd9",
   "metadata": {},
   "source": []
  }
 ],
 "metadata": {
  "kernelspec": {
   "display_name": "Python 3",
   "language": "python",
   "name": "python3"
  },
  "language_info": {
   "codemirror_mode": {
    "name": "ipython",
    "version": 3
   },
   "file_extension": ".py",
   "mimetype": "text/x-python",
   "name": "python",
   "nbconvert_exporter": "python",
   "pygments_lexer": "ipython3",
   "version": "3.12.7"
  }
 },
 "nbformat": 4,
 "nbformat_minor": 5
}
